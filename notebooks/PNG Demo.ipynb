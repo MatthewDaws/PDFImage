{
 "cells": [
  {
   "cell_type": "markdown",
   "metadata": {},
   "source": [
    "# PNG Demo\n",
    "\n",
    "The same files as for the JBIG2 demo."
   ]
  },
  {
   "cell_type": "code",
   "execution_count": 1,
   "metadata": {
    "collapsed": true
   },
   "outputs": [],
   "source": [
    "import pdfimage, os\n",
    "import PIL.Image\n",
    "inputdir = os.path.join(\"..\", \"..\", \"..\", \"scans\", \"demo\")"
   ]
  },
  {
   "cell_type": "code",
   "execution_count": 2,
   "metadata": {
    "collapsed": false
   },
   "outputs": [],
   "source": [
    "files = [(x, int(x[:-4])) for x in os.listdir(inputdir)]\n",
    "files.sort(key = lambda pr : pr[1])\n",
    "files = [pr[0] for pr in files]"
   ]
  },
  {
   "cell_type": "code",
   "execution_count": 3,
   "metadata": {
    "collapsed": false
   },
   "outputs": [],
   "source": [
    "pdfwriter = pdfimage.PDFWriter()\n",
    "\n",
    "for f in files:\n",
    "    image = PIL.Image.open(os.path.join(inputdir, f))\n",
    "    image = pdfimage.PNGImage(image)\n",
    "    parts = image()\n",
    "    parts.add_to_pdf_writer(pdfwriter)"
   ]
  },
  {
   "cell_type": "code",
   "execution_count": 4,
   "metadata": {
    "collapsed": true
   },
   "outputs": [],
   "source": [
    "with open(\"out_png.pdf\", \"wb\") as f:\n",
    "    f.write(bytes(pdfwriter))"
   ]
  },
  {
   "cell_type": "code",
   "execution_count": null,
   "metadata": {
    "collapsed": true
   },
   "outputs": [],
   "source": []
  }
 ],
 "metadata": {
  "kernelspec": {
   "display_name": "Python 3",
   "language": "python",
   "name": "python3"
  },
  "language_info": {
   "codemirror_mode": {
    "name": "ipython",
    "version": 3
   },
   "file_extension": ".py",
   "mimetype": "text/x-python",
   "name": "python",
   "nbconvert_exporter": "python",
   "pygments_lexer": "ipython3",
   "version": "3.6.0"
  }
 },
 "nbformat": 4,
 "nbformat_minor": 2
}
