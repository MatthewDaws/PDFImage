{
 "cells": [
  {
   "cell_type": "code",
   "execution_count": 1,
   "metadata": {
    "collapsed": false
   },
   "outputs": [],
   "source": [
    "import os, sys\n",
    "sys.path.insert(0, os.path.abspath(\"..\"))"
   ]
  },
  {
   "cell_type": "markdown",
   "metadata": {},
   "source": [
    "# JBIG2 Demo\n",
    "\n",
    "The [jbig2enc](https://github.com/agl/jbig2enc) executable has the ability to automatically detect \"images\" and to extract these first and save as PNG files.  Here we experiment with using this feature, and automatically combining the two images in the PDF file.\n",
    "\n",
    "The result is still a small file size, but I am not particularly impressed with the result."
   ]
  },
  {
   "cell_type": "code",
   "execution_count": 2,
   "metadata": {
    "collapsed": false
   },
   "outputs": [],
   "source": [
    "import pdfimage\n",
    "import os\n",
    "inputdir = os.path.join(\"..\", \"..\", \"..\", \"scans\", \"demo\")"
   ]
  },
  {
   "cell_type": "markdown",
   "metadata": {},
   "source": [
    "This orders the files by number (I named them \"1.png\", \"10.png\" etc. so we need to be careful)."
   ]
  },
  {
   "cell_type": "code",
   "execution_count": 3,
   "metadata": {
    "collapsed": false,
    "scrolled": true
   },
   "outputs": [],
   "source": [
    "files = [(x, int(x[:-4])) for x in os.listdir(inputdir)]\n",
    "files.sort(key = lambda pr : pr[1])\n",
    "files = [pr[0] for pr in files]"
   ]
  },
  {
   "cell_type": "markdown",
   "metadata": {},
   "source": [
    "This compresses the input files using the external compressor, and collects the results in a zip file."
   ]
  },
  {
   "cell_type": "code",
   "execution_count": 4,
   "metadata": {
    "collapsed": false
   },
   "outputs": [],
   "source": [
    "compressor = pdfimage.JBIG2CompressorToZip(\"out.zip\", jbig2_exe_path=\"../agl-jbig2enc/jbig2.exe\",\n",
    "                                            input_directory=inputdir, oversample=1, split=True)\n",
    "compressor.encode(files)"
   ]
  },
  {
   "cell_type": "markdown",
   "metadata": {},
   "source": [
    "Process, taking account of the overlap PNG files."
   ]
  },
  {
   "cell_type": "code",
   "execution_count": 5,
   "metadata": {
    "collapsed": true
   },
   "outputs": [],
   "source": [
    "images = pdfimage.JBIG2MultiImages(\"out.zip\", dpi=6)\n",
    "pdfwriter = pdfimage.PDFWriter()"
   ]
  },
  {
   "cell_type": "code",
   "execution_count": 6,
   "metadata": {
    "collapsed": false
   },
   "outputs": [],
   "source": [
    "images.parts.add_to_pdf_writer(pdfwriter)"
   ]
  },
  {
   "cell_type": "markdown",
   "metadata": {},
   "source": [
    "Save the data as a PDF file"
   ]
  },
  {
   "cell_type": "code",
   "execution_count": 7,
   "metadata": {
    "collapsed": true
   },
   "outputs": [],
   "source": [
    "with open(\"out_parts_auto.pdf\", \"wb\") as f:\n",
    "    f.write(bytes(pdfwriter))"
   ]
  },
  {
   "cell_type": "code",
   "execution_count": null,
   "metadata": {
    "collapsed": true
   },
   "outputs": [],
   "source": []
  }
 ],
 "metadata": {
  "kernelspec": {
   "display_name": "Python 3",
   "language": "python",
   "name": "python3"
  },
  "language_info": {
   "codemirror_mode": {
    "name": "ipython",
    "version": 3
   },
   "file_extension": ".py",
   "mimetype": "text/x-python",
   "name": "python",
   "nbconvert_exporter": "python",
   "pygments_lexer": "ipython3",
   "version": "3.6.0"
  }
 },
 "nbformat": 4,
 "nbformat_minor": 2
}
