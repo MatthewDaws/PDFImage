{
 "cells": [
  {
   "cell_type": "code",
   "execution_count": 1,
   "metadata": {
    "collapsed": true
   },
   "outputs": [],
   "source": [
    "import sys, os\n",
    "sys.path.insert(0, os.path.join(\"..\"))"
   ]
  },
  {
   "cell_type": "code",
   "execution_count": 2,
   "metadata": {
    "collapsed": true
   },
   "outputs": [],
   "source": [
    "import pdfimage.pdf_read"
   ]
  },
  {
   "cell_type": "code",
   "execution_count": 7,
   "metadata": {
    "collapsed": false
   },
   "outputs": [
    {
     "data": {
      "text/plain": [
       "'%PDF-1.5'"
      ]
     },
     "execution_count": 7,
     "metadata": {},
     "output_type": "execute_result"
    }
   ],
   "source": [
    "pdf = pdfimage.pdf_read.PDF(os.path.join(\"..\",\"tests\", \"out.pdf\"))\n",
    "pdf.version"
   ]
  },
  {
   "cell_type": "code",
   "execution_count": 8,
   "metadata": {
    "collapsed": false
   },
   "outputs": [
    {
     "data": {
      "text/plain": [
       "{PDFObjectId(1, 0): 160306,\n",
       " PDFObjectId(3, 0): 160192,\n",
       " PDFObjectId(4, 0): 155763,\n",
       " PDFObjectId(5, 0): 9491,\n",
       " PDFObjectId(6, 0): 15,\n",
       " PDFObjectId(7, 0): 9170,\n",
       " PDFObjectId(8, 0): 705,\n",
       " PDFObjectId(9, 0): 19339,\n",
       " PDFObjectId(10, 0): 9629,\n",
       " PDFObjectId(11, 0): 19098,\n",
       " PDFObjectId(12, 0): 10238,\n",
       " PDFObjectId(13, 0): 34376,\n",
       " PDFObjectId(14, 0): 19480,\n",
       " PDFObjectId(15, 0): 33807,\n",
       " PDFObjectId(16, 0): 20140,\n",
       " PDFObjectId(17, 0): 51312,\n",
       " PDFObjectId(18, 0): 34518,\n",
       " PDFObjectId(19, 0): 50964,\n",
       " PDFObjectId(20, 0): 35207,\n",
       " PDFObjectId(21, 0): 76144,\n",
       " PDFObjectId(22, 0): 51454,\n",
       " PDFObjectId(23, 0): 75681,\n",
       " PDFObjectId(24, 0): 52121,\n",
       " PDFObjectId(25, 0): 83853,\n",
       " PDFObjectId(26, 0): 76287,\n",
       " PDFObjectId(27, 0): 83624,\n",
       " PDFObjectId(28, 0): 76324,\n",
       " PDFObjectId(29, 0): 96202,\n",
       " PDFObjectId(30, 0): 83993,\n",
       " PDFObjectId(31, 0): 95845,\n",
       " PDFObjectId(32, 0): 84672,\n",
       " PDFObjectId(33, 0): 114642,\n",
       " PDFObjectId(34, 0): 96342,\n",
       " PDFObjectId(35, 0): 114222,\n",
       " PDFObjectId(36, 0): 96989,\n",
       " PDFObjectId(37, 0): 138385,\n",
       " PDFObjectId(38, 0): 114785,\n",
       " PDFObjectId(39, 0): 137807,\n",
       " PDFObjectId(40, 0): 115477,\n",
       " PDFObjectId(41, 0): 143176,\n",
       " PDFObjectId(42, 0): 138526,\n",
       " PDFObjectId(43, 0): 142947,\n",
       " PDFObjectId(44, 0): 138663,\n",
       " PDFObjectId(45, 0): 155621,\n",
       " PDFObjectId(46, 0): 143318,\n",
       " PDFObjectId(47, 0): 155062,\n",
       " PDFObjectId(48, 0): 144029,\n",
       " PDFObjectId(49, 0): 155951,\n",
       " PDFObjectId(50, 0): 160365,\n",
       " PDFObjectId(51, 0): 160417}"
      ]
     },
     "execution_count": 8,
     "metadata": {},
     "output_type": "execute_result"
    }
   ],
   "source": [
    "pdf.object_lookup"
   ]
  },
  {
   "cell_type": "code",
   "execution_count": null,
   "metadata": {
    "collapsed": true
   },
   "outputs": [],
   "source": []
  }
 ],
 "metadata": {
  "kernelspec": {
   "display_name": "Python 3",
   "language": "python",
   "name": "python3"
  },
  "language_info": {
   "codemirror_mode": {
    "name": "ipython",
    "version": 3
   },
   "file_extension": ".py",
   "mimetype": "text/x-python",
   "name": "python",
   "nbconvert_exporter": "python",
   "pygments_lexer": "ipython3",
   "version": "3.6.0"
  }
 },
 "nbformat": 4,
 "nbformat_minor": 2
}
