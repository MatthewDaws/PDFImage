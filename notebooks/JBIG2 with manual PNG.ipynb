{
 "cells": [
  {
   "cell_type": "code",
   "execution_count": 1,
   "metadata": {
    "collapsed": true
   },
   "outputs": [],
   "source": [
    "import os, sys\n",
    "sys.path.insert(0, os.path.abspath(\"..\"))"
   ]
  },
  {
   "cell_type": "markdown",
   "metadata": {},
   "source": [
    "# Manually select PNG areas\n",
    "\n",
    "Instead of splitting the text from images automatically, we can provide the splitting ourselves.\n",
    "\n",
    "- Firstly all pages are compressed using the JBIG2 algorithm.\n",
    "- We select rectangles to replace with a PNG image.  The image needs to be the same aspect ratio as the JB2 compressed image, but that is all\n",
    "- Then package the whole lot into a PDF file"
   ]
  },
  {
   "cell_type": "code",
   "execution_count": 2,
   "metadata": {
    "collapsed": true
   },
   "outputs": [],
   "source": [
    "import pdfimage\n",
    "import os\n",
    "import PIL.Image\n",
    "inputdir = os.path.join(\"..\", \"..\", \"..\", \"scans\", \"demo\")"
   ]
  },
  {
   "cell_type": "code",
   "execution_count": 3,
   "metadata": {
    "collapsed": true
   },
   "outputs": [],
   "source": [
    "files = [(x, int(x[:-4])) for x in os.listdir(inputdir)]\n",
    "files.sort(key = lambda pr : pr[1])\n",
    "files = [pr[0] for pr in files]"
   ]
  },
  {
   "cell_type": "code",
   "execution_count": 9,
   "metadata": {
    "collapsed": false
   },
   "outputs": [],
   "source": [
    "compressor = pdfimage.JBIG2CompressorToZip(\"out.zip\", jbig2_exe_path=\"../agl-jbig2enc/jbig2.exe\",\n",
    "                                            input_directory=inputdir, oversample=2)\n",
    "compressor.encode(files)"
   ]
  },
  {
   "cell_type": "code",
   "execution_count": 14,
   "metadata": {
    "collapsed": false
   },
   "outputs": [],
   "source": [
    "images = pdfimage.jb2.JBIG2ManualMultiImages(\"out.zip\")"
   ]
  },
  {
   "cell_type": "code",
   "execution_count": 15,
   "metadata": {
    "collapsed": false
   },
   "outputs": [],
   "source": [
    "image = PIL.Image.open(os.path.join(inputdir, files[15]))\n",
    "images.add_png_section(15, image, [(185, 575, 605, 1025), (185, 1080, 605, 1570)])\n",
    "\n",
    "image = PIL.Image.open(os.path.join(inputdir, files[16]))\n",
    "images.add_png_section(16, image, [(185, 575, 605, 1025)])"
   ]
  },
  {
   "cell_type": "code",
   "execution_count": 16,
   "metadata": {
    "collapsed": false
   },
   "outputs": [],
   "source": [
    "pdfwriter = pdfimage.PDFWriter()\n",
    "images.parts.add_to_pdf_writer(pdfwriter)"
   ]
  },
  {
   "cell_type": "code",
   "execution_count": 17,
   "metadata": {
    "collapsed": true
   },
   "outputs": [],
   "source": [
    "with open(\"out_parts_user.pdf\", \"wb\") as f:\n",
    "    f.write(bytes(pdfwriter))"
   ]
  },
  {
   "cell_type": "code",
   "execution_count": null,
   "metadata": {
    "collapsed": true
   },
   "outputs": [],
   "source": []
  }
 ],
 "metadata": {
  "kernelspec": {
   "display_name": "Python 3",
   "language": "python",
   "name": "python3"
  },
  "language_info": {
   "codemirror_mode": {
    "name": "ipython",
    "version": 3
   },
   "file_extension": ".py",
   "mimetype": "text/x-python",
   "name": "python",
   "nbconvert_exporter": "python",
   "pygments_lexer": "ipython3",
   "version": "3.6.0"
  }
 },
 "nbformat": 4,
 "nbformat_minor": 2
}
