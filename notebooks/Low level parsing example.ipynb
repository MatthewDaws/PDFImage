{
 "cells": [
  {
   "cell_type": "code",
   "execution_count": 1,
   "metadata": {
    "collapsed": true
   },
   "outputs": [],
   "source": [
    "import sys, os\n",
    "sys.path.insert(0, os.path.join(\"..\"))"
   ]
  },
  {
   "cell_type": "code",
   "execution_count": 2,
   "metadata": {
    "collapsed": true
   },
   "outputs": [],
   "source": [
    "import pdfimage.pdf_read"
   ]
  },
  {
   "cell_type": "code",
   "execution_count": 3,
   "metadata": {
    "collapsed": false
   },
   "outputs": [
    {
     "data": {
      "text/plain": [
       "'%PDF-1.4'"
      ]
     },
     "execution_count": 3,
     "metadata": {},
     "output_type": "execute_result"
    }
   ],
   "source": [
    "pdf = pdfimage.pdf_read.PDF(os.path.join(\"..\", \"PDFReference.pdf\"))\n",
    "pdf.version"
   ]
  },
  {
   "cell_type": "code",
   "execution_count": 4,
   "metadata": {
    "collapsed": false
   },
   "outputs": [
    {
     "data": {
      "text/plain": [
       "PDFDictionary({PDFName(b'Size'): PDFNumeric(31667), PDFName(b'ID'): PDFArray([PDFString(b\"\\x19WE'\\xec\\xbf\\x00\\xe3\\xec\\x03s\\x87\\x983\\xee\\xf6\"), PDFString(b'$\\xee\\x9e\\xdb}\\xe4\\r\\xb8b\\xfd\\xb4\\xc5\\xd3I5\\x85')]), PDFName(b'Info'): PDFObjectId(7, 0), PDFName(b'Root'): PDFObjectId(1, 0), PDFName(b'Encrypt'): PDFObjectId(31666, 0)})"
      ]
     },
     "execution_count": 4,
     "metadata": {},
     "output_type": "execute_result"
    }
   ],
   "source": [
    "pdf.trailer"
   ]
  },
  {
   "cell_type": "code",
   "execution_count": 5,
   "metadata": {
    "collapsed": false
   },
   "outputs": [],
   "source": [
    "for key, loc in pdf.object_lookup.items():\n",
    "    items = pdf.object_at(loc)\n",
    "    if len(items) == 1:\n",
    "        continue\n",
    "    if len(items)==2 and isinstance(items[1], pdfimage.pdf_read.PDFStreamIndicator):\n",
    "        obj = pdf.full_object_at(loc)\n",
    "        continue\n",
    "    raise AssertionError()"
   ]
  },
  {
   "cell_type": "code",
   "execution_count": null,
   "metadata": {
    "collapsed": true
   },
   "outputs": [],
   "source": []
  }
 ],
 "metadata": {
  "kernelspec": {
   "display_name": "Python 3",
   "language": "python",
   "name": "python3"
  },
  "language_info": {
   "codemirror_mode": {
    "name": "ipython",
    "version": 3
   },
   "file_extension": ".py",
   "mimetype": "text/x-python",
   "name": "python",
   "nbconvert_exporter": "python",
   "pygments_lexer": "ipython3",
   "version": "3.6.0"
  }
 },
 "nbformat": 4,
 "nbformat_minor": 2
}
