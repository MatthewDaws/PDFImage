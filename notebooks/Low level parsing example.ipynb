{
 "cells": [
  {
   "cell_type": "code",
   "execution_count": 1,
   "metadata": {
    "collapsed": true
   },
   "outputs": [],
   "source": [
    "import sys, os\n",
    "sys.path.insert(0, os.path.join(\"..\"))"
   ]
  },
  {
   "cell_type": "code",
   "execution_count": 2,
   "metadata": {
    "collapsed": true
   },
   "outputs": [],
   "source": [
    "import pdfimage.pdf_read"
   ]
  },
  {
   "cell_type": "code",
   "execution_count": 3,
   "metadata": {
    "collapsed": false
   },
   "outputs": [
    {
     "data": {
      "text/plain": [
       "'%PDF-1.4'"
      ]
     },
     "execution_count": 3,
     "metadata": {},
     "output_type": "execute_result"
    }
   ],
   "source": [
    "pdf = pdfimage.pdf_read.PDF(os.path.join(\"..\", \"PDFReference.pdf\"))\n",
    "pdf.version"
   ]
  },
  {
   "cell_type": "code",
   "execution_count": 4,
   "metadata": {
    "collapsed": false
   },
   "outputs": [
    {
     "data": {
      "text/plain": [
       "PDFDictionary({PDFName(b'Size'): PDFNumeric(31667), PDFName(b'ID'): PDFArray([PDFString(b\"\\x19WE'\\xec\\xbf\\x00\\xe3\\xec\\x03s\\x87\\x983\\xee\\xf6\"), PDFString(b'$\\xee\\x9e\\xdb}\\xe4\\r\\xb8b\\xfd\\xb4\\xc5\\xd3I5\\x85')]), PDFName(b'Info'): PDFObjectId(7, 0), PDFName(b'Root'): PDFObjectId(1, 0), PDFName(b'Encrypt'): PDFObjectId(31666, 0)})"
      ]
     },
     "execution_count": 4,
     "metadata": {},
     "output_type": "execute_result"
    }
   ],
   "source": [
    "pdf.trailer"
   ]
  },
  {
   "cell_type": "markdown",
   "metadata": {},
   "source": [
    "The XREF table of objects and their locations is available as a dictionary."
   ]
  },
  {
   "cell_type": "code",
   "execution_count": 6,
   "metadata": {
    "collapsed": false
   },
   "outputs": [
    {
     "data": {
      "text/plain": [
       "[(PDFObjectId(1, 0), 15),\n",
       " (PDFObjectId(2, 0), 670),\n",
       " (PDFObjectId(3, 0), 791),\n",
       " (PDFObjectId(4, 0), 2566),\n",
       " (PDFObjectId(5, 0), 2624)]"
      ]
     },
     "execution_count": 6,
     "metadata": {},
     "output_type": "execute_result"
    }
   ],
   "source": [
    "list(pdf.object_lookup.items())[:5]"
   ]
  },
  {
   "cell_type": "markdown",
   "metadata": {},
   "source": [
    "Check that for each object is either a single object, or a pair of objects where the second object is a placeholder for a PDF Stream.  If a stream, then load it."
   ]
  },
  {
   "cell_type": "code",
   "execution_count": 7,
   "metadata": {
    "collapsed": false
   },
   "outputs": [],
   "source": [
    "for key, loc in pdf.object_lookup.items():\n",
    "    items = pdf.object_at(loc)\n",
    "    if len(items) == 1:\n",
    "        continue\n",
    "    if len(items) == 2 and isinstance(items[1], pdfimage.pdf_read.PDFStreamIndicator):\n",
    "        obj = pdf.full_object_at(loc)\n",
    "        continue\n",
    "    raise AssertionError()"
   ]
  },
  {
   "cell_type": "markdown",
   "metadata": {},
   "source": [
    "Example of a simple object"
   ]
  },
  {
   "cell_type": "code",
   "execution_count": 9,
   "metadata": {
    "collapsed": false
   },
   "outputs": [
    {
     "data": {
      "text/plain": [
       "[PDFDictionary({PDFName(b'Type'): PDFName(b'Catalog'), PDFName(b'Pages'): PDFObjectId(2, 0), PDFName(b'Metadata'): PDFObjectId(3, 0), PDFName(b'Outlines'): PDFObjectId(4, 0), PDFName(b'PageLabels'): PDFObjectId(5, 0), PDFName(b'OpenAction'): PDFObjectId(6, 0), PDFName(b'PageMode'): PDFName(b'UseOutlines'), PDFName(b'ViewerPreferences'): PDFDictionary({PDFName(b'DisplayDocTitle'): PDFBoolean(True)})})]"
      ]
     },
     "execution_count": 9,
     "metadata": {},
     "output_type": "execute_result"
    }
   ],
   "source": [
    "pdf.object_at(15)"
   ]
  },
  {
   "cell_type": "markdown",
   "metadata": {
    "collapsed": true
   },
   "source": [
    "Example of an object with stream.  The `full_object_at` method attempts to recursingly read all the objects which are references.  We do not attempt to deal with cyclic references, so this can lead to a recursion error"
   ]
  },
  {
   "cell_type": "code",
   "execution_count": 17,
   "metadata": {
    "collapsed": false
   },
   "outputs": [
    {
     "data": {
      "text/plain": [
       "PDFDictionary({PDFName(b'Type'): PDFName(b'Metadata'), PDFName(b'Subtype'): PDFName(b'XML'), PDFName(b'Length'): PDFNumeric(1691)}, stream length=1691)"
      ]
     },
     "execution_count": 17,
     "metadata": {},
     "output_type": "execute_result"
    }
   ],
   "source": [
    "obj = pdf.full_object_at(791)\n",
    "obj"
   ]
  },
  {
   "cell_type": "code",
   "execution_count": 18,
   "metadata": {
    "collapsed": false
   },
   "outputs": [
    {
     "data": {
      "text/plain": [
       "b'\\xcd\\x14\\xedob\\r\\xdb$\\xc8e'"
      ]
     },
     "execution_count": 18,
     "metadata": {},
     "output_type": "execute_result"
    }
   ],
   "source": [
    "obj.stream_contents[:10]"
   ]
  },
  {
   "cell_type": "markdown",
   "metadata": {},
   "source": [
    "Trying to load all of the following object would lead to a recursion error."
   ]
  },
  {
   "cell_type": "code",
   "execution_count": 19,
   "metadata": {
    "collapsed": false
   },
   "outputs": [
    {
     "data": {
      "text/plain": [
       "[PDFDictionary({PDFName(b'Type'): PDFName(b'Pages'), PDFName(b'Kids'): PDFArray([PDFObjectId(8, 0), PDFObjectId(9, 0), PDFObjectId(10, 0), PDFObjectId(11, 0), PDFObjectId(12, 0), PDFObjectId(13, 0), PDFObjectId(14, 0), PDFObjectId(15, 0), PDFObjectId(16, 0), PDFObjectId(17, 0)]), PDFName(b'Count'): PDFNumeric(978)})]"
      ]
     },
     "execution_count": 19,
     "metadata": {},
     "output_type": "execute_result"
    }
   ],
   "source": [
    "pdf.object_at(670)"
   ]
  },
  {
   "cell_type": "code",
   "execution_count": null,
   "metadata": {
    "collapsed": true
   },
   "outputs": [],
   "source": []
  }
 ],
 "metadata": {
  "kernelspec": {
   "display_name": "Python 3",
   "language": "python",
   "name": "python3"
  },
  "language_info": {
   "codemirror_mode": {
    "name": "ipython",
    "version": 3
   },
   "file_extension": ".py",
   "mimetype": "text/x-python",
   "name": "python",
   "nbconvert_exporter": "python",
   "pygments_lexer": "ipython3",
   "version": "3.6.0"
  }
 },
 "nbformat": 4,
 "nbformat_minor": 2
}
